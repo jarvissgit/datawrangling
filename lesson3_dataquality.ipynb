{
 "cells": [
  {
   "cell_type": "markdown",
   "metadata": {},
   "source": [
    "## Sources of dirty data\n",
    "1. User entry errors\n",
    "    * Poorly applied coding standards\n",
    "2. Different schemas\n",
    "3. Legacy systems\n",
    "4. Evolving applications\n",
    "5. No unique identifiers\n",
    "6. Data Migration\n",
    "7. Programmer Error\n",
    "8. Corruption in transmission"
   ]
  },
  {
   "cell_type": "markdown",
   "metadata": {},
   "source": [
    "## Measures of Data Quality\n",
    "1. Validity : Conforms to a schema\n",
    "2. Accuracy : Conforms to gold standard\n",
    "3. Completeness : All records\n",
    "4. Consistency : Matches other data\n",
    "5. Uniformity : Same units"
   ]
  },
  {
   "cell_type": "markdown",
   "metadata": {},
   "source": [
    "## Blueprint for cleaning\n",
    "1. **Audit your data**\n",
    "    - *programmatically checking the data using some validation rules that were written*\n",
    "    - *create a report on the quality of the data*\n",
    "    - *may want to run some statistical analysis for e.g. to check for outliers*\n",
    "    - *run the audit and devise a data cleaning plan*\n",
    "2. **Create a data cleaning plan**\n",
    "    * Identify causes\n",
    "        * *situation specific*\n",
    "    * Define operations\n",
    "    * Test\n",
    "        * *test if the data cleaning process does what it is intended to do*\n",
    "3. **Execute the plan**\n",
    "    * *running the script that does what has been defined in the data cleaning plan*\n",
    "4. **Manually correct**\n",
    "    * *manual correction is required if the data cleaning is not completed automatically*\n",
    "5. **Goto step 1 and iterate (say two times)**"
   ]
  }
 ],
 "metadata": {
  "kernelspec": {
   "display_name": "Python 2",
   "language": "python",
   "name": "python2"
  },
  "language_info": {
   "codemirror_mode": {
    "name": "ipython",
    "version": 2
   },
   "file_extension": ".py",
   "mimetype": "text/x-python",
   "name": "python",
   "nbconvert_exporter": "python",
   "pygments_lexer": "ipython2",
   "version": "2.7.12"
  }
 },
 "nbformat": 4,
 "nbformat_minor": 1
}
